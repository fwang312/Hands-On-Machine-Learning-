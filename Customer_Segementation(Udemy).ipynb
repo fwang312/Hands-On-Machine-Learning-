{
  "nbformat": 4,
  "nbformat_minor": 0,
  "metadata": {
    "colab": {
      "name": "Customer Segementation(Udemy).ipynb",
      "provenance": [],
      "authorship_tag": "ABX9TyPDo6K9HlPShT075oH9Oj/h",
      "include_colab_link": true
    },
    "kernelspec": {
      "name": "python3",
      "display_name": "Python 3"
    }
  },
  "cells": [
    {
      "cell_type": "markdown",
      "metadata": {
        "id": "view-in-github",
        "colab_type": "text"
      },
      "source": [
        "<a href=\"https://colab.research.google.com/github/fwang312/Hands-On-Machine-Learning-/blob/master/Customer_Segementation(Udemy).ipynb\" target=\"_parent\"><img src=\"https://colab.research.google.com/assets/colab-badge.svg\" alt=\"Open In Colab\"/></a>"
      ]
    },
    {
      "cell_type": "code",
      "metadata": {
        "id": "1FIMGE935ete",
        "colab_type": "code",
        "colab": {
          "base_uri": "https://localhost:8080/",
          "height": 54
        },
        "outputId": "26fbd576-93bb-4c9a-a277-b9ed1e790a55"
      },
      "source": [
        "from google.colab import drive\n",
        "drive.mount('/content/gdrive')"
      ],
      "execution_count": 42,
      "outputs": [
        {
          "output_type": "stream",
          "text": [
            "Drive already mounted at /content/gdrive; to attempt to forcibly remount, call drive.mount(\"/content/gdrive\", force_remount=True).\n"
          ],
          "name": "stdout"
        }
      ]
    },
    {
      "cell_type": "code",
      "metadata": {
        "id": "O5KARkjo6GNW",
        "colab_type": "code",
        "colab": {
          "base_uri": "https://localhost:8080/",
          "height": 34
        },
        "outputId": "518c5362-6780-402f-fee2-615b16a8b844"
      },
      "source": [
        "import os\n",
        "os.chdir(\"/content/gdrive/My Drive/Project/Customer Analytics\")\n",
        "!ls"
      ],
      "execution_count": 43,
      "outputs": [
        {
          "output_type": "stream",
          "text": [
            "'segmentation data.csv'  'segmentation data legend.xlsx'   Untitled0.ipynb\n"
          ],
          "name": "stdout"
        }
      ]
    },
    {
      "cell_type": "markdown",
      "metadata": {
        "id": "FSOZ1HlNAGWx",
        "colab_type": "text"
      },
      "source": [
        "## Import Libraries"
      ]
    },
    {
      "cell_type": "code",
      "metadata": {
        "id": "oYve9LtR7VNA",
        "colab_type": "code",
        "colab": {}
      },
      "source": [
        "import pandas as pd\n",
        "import numpy as np\n",
        "import scipy\n",
        "\n",
        "import matplotlib.pyplot as plt\n",
        "import seaborn as sns\n",
        "sns.set()\n",
        "\n",
        "from sklearn.preprocessing import StandardScaler\n",
        "from scipy.cluster.hierarchy import dendrogram,linkage\n",
        "from sklearn.cluster import KMeans"
      ],
      "execution_count": 0,
      "outputs": []
    },
    {
      "cell_type": "code",
      "metadata": {
        "id": "q6NEMga47J07",
        "colab_type": "code",
        "colab": {}
      },
      "source": [
        "df_segamentation = pd.read_csv('segmentation data.csv',index_col=0)"
      ],
      "execution_count": 0,
      "outputs": []
    },
    {
      "cell_type": "code",
      "metadata": {
        "id": "PNjxkLL37gFF",
        "colab_type": "code",
        "colab": {
          "base_uri": "https://localhost:8080/",
          "height": 235
        },
        "outputId": "ce7ee7da-9052-493b-8f8a-e923cb4c9631"
      },
      "source": [
        "df_segamentation.head()"
      ],
      "execution_count": 46,
      "outputs": [
        {
          "output_type": "execute_result",
          "data": {
            "text/html": [
              "<div>\n",
              "<style scoped>\n",
              "    .dataframe tbody tr th:only-of-type {\n",
              "        vertical-align: middle;\n",
              "    }\n",
              "\n",
              "    .dataframe tbody tr th {\n",
              "        vertical-align: top;\n",
              "    }\n",
              "\n",
              "    .dataframe thead th {\n",
              "        text-align: right;\n",
              "    }\n",
              "</style>\n",
              "<table border=\"1\" class=\"dataframe\">\n",
              "  <thead>\n",
              "    <tr style=\"text-align: right;\">\n",
              "      <th></th>\n",
              "      <th>Sex</th>\n",
              "      <th>Marital status</th>\n",
              "      <th>Age</th>\n",
              "      <th>Education</th>\n",
              "      <th>Income</th>\n",
              "      <th>Occupation</th>\n",
              "      <th>Settlement size</th>\n",
              "    </tr>\n",
              "    <tr>\n",
              "      <th>ID</th>\n",
              "      <th></th>\n",
              "      <th></th>\n",
              "      <th></th>\n",
              "      <th></th>\n",
              "      <th></th>\n",
              "      <th></th>\n",
              "      <th></th>\n",
              "    </tr>\n",
              "  </thead>\n",
              "  <tbody>\n",
              "    <tr>\n",
              "      <th>100000001</th>\n",
              "      <td>0</td>\n",
              "      <td>0</td>\n",
              "      <td>67</td>\n",
              "      <td>2</td>\n",
              "      <td>124670</td>\n",
              "      <td>1</td>\n",
              "      <td>2</td>\n",
              "    </tr>\n",
              "    <tr>\n",
              "      <th>100000002</th>\n",
              "      <td>1</td>\n",
              "      <td>1</td>\n",
              "      <td>22</td>\n",
              "      <td>1</td>\n",
              "      <td>150773</td>\n",
              "      <td>1</td>\n",
              "      <td>2</td>\n",
              "    </tr>\n",
              "    <tr>\n",
              "      <th>100000003</th>\n",
              "      <td>0</td>\n",
              "      <td>0</td>\n",
              "      <td>49</td>\n",
              "      <td>1</td>\n",
              "      <td>89210</td>\n",
              "      <td>0</td>\n",
              "      <td>0</td>\n",
              "    </tr>\n",
              "    <tr>\n",
              "      <th>100000004</th>\n",
              "      <td>0</td>\n",
              "      <td>0</td>\n",
              "      <td>45</td>\n",
              "      <td>1</td>\n",
              "      <td>171565</td>\n",
              "      <td>1</td>\n",
              "      <td>1</td>\n",
              "    </tr>\n",
              "    <tr>\n",
              "      <th>100000005</th>\n",
              "      <td>0</td>\n",
              "      <td>0</td>\n",
              "      <td>53</td>\n",
              "      <td>1</td>\n",
              "      <td>149031</td>\n",
              "      <td>1</td>\n",
              "      <td>1</td>\n",
              "    </tr>\n",
              "  </tbody>\n",
              "</table>\n",
              "</div>"
            ],
            "text/plain": [
              "           Sex  Marital status  Age  ...  Income  Occupation  Settlement size\n",
              "ID                                   ...                                     \n",
              "100000001    0               0   67  ...  124670           1                2\n",
              "100000002    1               1   22  ...  150773           1                2\n",
              "100000003    0               0   49  ...   89210           0                0\n",
              "100000004    0               0   45  ...  171565           1                1\n",
              "100000005    0               0   53  ...  149031           1                1\n",
              "\n",
              "[5 rows x 7 columns]"
            ]
          },
          "metadata": {
            "tags": []
          },
          "execution_count": 46
        }
      ]
    },
    {
      "cell_type": "code",
      "metadata": {
        "id": "zTdCr_zJ7lPj",
        "colab_type": "code",
        "colab": {
          "base_uri": "https://localhost:8080/",
          "height": 297
        },
        "outputId": "47c2befd-ea43-4a9b-c42d-284fe02ff567"
      },
      "source": [
        "df_segamentation.describe()"
      ],
      "execution_count": 47,
      "outputs": [
        {
          "output_type": "execute_result",
          "data": {
            "text/html": [
              "<div>\n",
              "<style scoped>\n",
              "    .dataframe tbody tr th:only-of-type {\n",
              "        vertical-align: middle;\n",
              "    }\n",
              "\n",
              "    .dataframe tbody tr th {\n",
              "        vertical-align: top;\n",
              "    }\n",
              "\n",
              "    .dataframe thead th {\n",
              "        text-align: right;\n",
              "    }\n",
              "</style>\n",
              "<table border=\"1\" class=\"dataframe\">\n",
              "  <thead>\n",
              "    <tr style=\"text-align: right;\">\n",
              "      <th></th>\n",
              "      <th>Sex</th>\n",
              "      <th>Marital status</th>\n",
              "      <th>Age</th>\n",
              "      <th>Education</th>\n",
              "      <th>Income</th>\n",
              "      <th>Occupation</th>\n",
              "      <th>Settlement size</th>\n",
              "    </tr>\n",
              "  </thead>\n",
              "  <tbody>\n",
              "    <tr>\n",
              "      <th>count</th>\n",
              "      <td>2000.000000</td>\n",
              "      <td>2000.000000</td>\n",
              "      <td>2000.000000</td>\n",
              "      <td>2000.00000</td>\n",
              "      <td>2000.000000</td>\n",
              "      <td>2000.000000</td>\n",
              "      <td>2000.000000</td>\n",
              "    </tr>\n",
              "    <tr>\n",
              "      <th>mean</th>\n",
              "      <td>0.457000</td>\n",
              "      <td>0.496500</td>\n",
              "      <td>35.909000</td>\n",
              "      <td>1.03800</td>\n",
              "      <td>120954.419000</td>\n",
              "      <td>0.810500</td>\n",
              "      <td>0.739000</td>\n",
              "    </tr>\n",
              "    <tr>\n",
              "      <th>std</th>\n",
              "      <td>0.498272</td>\n",
              "      <td>0.500113</td>\n",
              "      <td>11.719402</td>\n",
              "      <td>0.59978</td>\n",
              "      <td>38108.824679</td>\n",
              "      <td>0.638587</td>\n",
              "      <td>0.812533</td>\n",
              "    </tr>\n",
              "    <tr>\n",
              "      <th>min</th>\n",
              "      <td>0.000000</td>\n",
              "      <td>0.000000</td>\n",
              "      <td>18.000000</td>\n",
              "      <td>0.00000</td>\n",
              "      <td>35832.000000</td>\n",
              "      <td>0.000000</td>\n",
              "      <td>0.000000</td>\n",
              "    </tr>\n",
              "    <tr>\n",
              "      <th>25%</th>\n",
              "      <td>0.000000</td>\n",
              "      <td>0.000000</td>\n",
              "      <td>27.000000</td>\n",
              "      <td>1.00000</td>\n",
              "      <td>97663.250000</td>\n",
              "      <td>0.000000</td>\n",
              "      <td>0.000000</td>\n",
              "    </tr>\n",
              "    <tr>\n",
              "      <th>50%</th>\n",
              "      <td>0.000000</td>\n",
              "      <td>0.000000</td>\n",
              "      <td>33.000000</td>\n",
              "      <td>1.00000</td>\n",
              "      <td>115548.500000</td>\n",
              "      <td>1.000000</td>\n",
              "      <td>1.000000</td>\n",
              "    </tr>\n",
              "    <tr>\n",
              "      <th>75%</th>\n",
              "      <td>1.000000</td>\n",
              "      <td>1.000000</td>\n",
              "      <td>42.000000</td>\n",
              "      <td>1.00000</td>\n",
              "      <td>138072.250000</td>\n",
              "      <td>1.000000</td>\n",
              "      <td>1.000000</td>\n",
              "    </tr>\n",
              "    <tr>\n",
              "      <th>max</th>\n",
              "      <td>1.000000</td>\n",
              "      <td>1.000000</td>\n",
              "      <td>76.000000</td>\n",
              "      <td>3.00000</td>\n",
              "      <td>309364.000000</td>\n",
              "      <td>2.000000</td>\n",
              "      <td>2.000000</td>\n",
              "    </tr>\n",
              "  </tbody>\n",
              "</table>\n",
              "</div>"
            ],
            "text/plain": [
              "               Sex  Marital status  ...   Occupation  Settlement size\n",
              "count  2000.000000     2000.000000  ...  2000.000000      2000.000000\n",
              "mean      0.457000        0.496500  ...     0.810500         0.739000\n",
              "std       0.498272        0.500113  ...     0.638587         0.812533\n",
              "min       0.000000        0.000000  ...     0.000000         0.000000\n",
              "25%       0.000000        0.000000  ...     0.000000         0.000000\n",
              "50%       0.000000        0.000000  ...     1.000000         1.000000\n",
              "75%       1.000000        1.000000  ...     1.000000         1.000000\n",
              "max       1.000000        1.000000  ...     2.000000         2.000000\n",
              "\n",
              "[8 rows x 7 columns]"
            ]
          },
          "metadata": {
            "tags": []
          },
          "execution_count": 47
        }
      ]
    },
    {
      "cell_type": "code",
      "metadata": {
        "id": "iSOsoyGP7n8j",
        "colab_type": "code",
        "colab": {
          "base_uri": "https://localhost:8080/",
          "height": 266
        },
        "outputId": "1ca41b23-8694-4ffe-ab0c-ea829ce18911"
      },
      "source": [
        "df_segamentation.corr()"
      ],
      "execution_count": 48,
      "outputs": [
        {
          "output_type": "execute_result",
          "data": {
            "text/html": [
              "<div>\n",
              "<style scoped>\n",
              "    .dataframe tbody tr th:only-of-type {\n",
              "        vertical-align: middle;\n",
              "    }\n",
              "\n",
              "    .dataframe tbody tr th {\n",
              "        vertical-align: top;\n",
              "    }\n",
              "\n",
              "    .dataframe thead th {\n",
              "        text-align: right;\n",
              "    }\n",
              "</style>\n",
              "<table border=\"1\" class=\"dataframe\">\n",
              "  <thead>\n",
              "    <tr style=\"text-align: right;\">\n",
              "      <th></th>\n",
              "      <th>Sex</th>\n",
              "      <th>Marital status</th>\n",
              "      <th>Age</th>\n",
              "      <th>Education</th>\n",
              "      <th>Income</th>\n",
              "      <th>Occupation</th>\n",
              "      <th>Settlement size</th>\n",
              "    </tr>\n",
              "  </thead>\n",
              "  <tbody>\n",
              "    <tr>\n",
              "      <th>Sex</th>\n",
              "      <td>1.000000</td>\n",
              "      <td>0.566511</td>\n",
              "      <td>-0.182885</td>\n",
              "      <td>0.244838</td>\n",
              "      <td>-0.195146</td>\n",
              "      <td>-0.202491</td>\n",
              "      <td>-0.300803</td>\n",
              "    </tr>\n",
              "    <tr>\n",
              "      <th>Marital status</th>\n",
              "      <td>0.566511</td>\n",
              "      <td>1.000000</td>\n",
              "      <td>-0.213178</td>\n",
              "      <td>0.374017</td>\n",
              "      <td>-0.073528</td>\n",
              "      <td>-0.029490</td>\n",
              "      <td>-0.097041</td>\n",
              "    </tr>\n",
              "    <tr>\n",
              "      <th>Age</th>\n",
              "      <td>-0.182885</td>\n",
              "      <td>-0.213178</td>\n",
              "      <td>1.000000</td>\n",
              "      <td>0.654605</td>\n",
              "      <td>0.340610</td>\n",
              "      <td>0.108388</td>\n",
              "      <td>0.119751</td>\n",
              "    </tr>\n",
              "    <tr>\n",
              "      <th>Education</th>\n",
              "      <td>0.244838</td>\n",
              "      <td>0.374017</td>\n",
              "      <td>0.654605</td>\n",
              "      <td>1.000000</td>\n",
              "      <td>0.233459</td>\n",
              "      <td>0.064524</td>\n",
              "      <td>0.034732</td>\n",
              "    </tr>\n",
              "    <tr>\n",
              "      <th>Income</th>\n",
              "      <td>-0.195146</td>\n",
              "      <td>-0.073528</td>\n",
              "      <td>0.340610</td>\n",
              "      <td>0.233459</td>\n",
              "      <td>1.000000</td>\n",
              "      <td>0.680357</td>\n",
              "      <td>0.490881</td>\n",
              "    </tr>\n",
              "    <tr>\n",
              "      <th>Occupation</th>\n",
              "      <td>-0.202491</td>\n",
              "      <td>-0.029490</td>\n",
              "      <td>0.108388</td>\n",
              "      <td>0.064524</td>\n",
              "      <td>0.680357</td>\n",
              "      <td>1.000000</td>\n",
              "      <td>0.571795</td>\n",
              "    </tr>\n",
              "    <tr>\n",
              "      <th>Settlement size</th>\n",
              "      <td>-0.300803</td>\n",
              "      <td>-0.097041</td>\n",
              "      <td>0.119751</td>\n",
              "      <td>0.034732</td>\n",
              "      <td>0.490881</td>\n",
              "      <td>0.571795</td>\n",
              "      <td>1.000000</td>\n",
              "    </tr>\n",
              "  </tbody>\n",
              "</table>\n",
              "</div>"
            ],
            "text/plain": [
              "                      Sex  Marital status  ...  Occupation  Settlement size\n",
              "Sex              1.000000        0.566511  ...   -0.202491        -0.300803\n",
              "Marital status   0.566511        1.000000  ...   -0.029490        -0.097041\n",
              "Age             -0.182885       -0.213178  ...    0.108388         0.119751\n",
              "Education        0.244838        0.374017  ...    0.064524         0.034732\n",
              "Income          -0.195146       -0.073528  ...    0.680357         0.490881\n",
              "Occupation      -0.202491       -0.029490  ...    1.000000         0.571795\n",
              "Settlement size -0.300803       -0.097041  ...    0.571795         1.000000\n",
              "\n",
              "[7 rows x 7 columns]"
            ]
          },
          "metadata": {
            "tags": []
          },
          "execution_count": 48
        }
      ]
    },
    {
      "cell_type": "code",
      "metadata": {
        "id": "Ok5BbR3R79W6",
        "colab_type": "code",
        "colab": {
          "base_uri": "https://localhost:8080/",
          "height": 640
        },
        "outputId": "66fa9f70-9350-4c95-883d-51d3a49893a7"
      },
      "source": [
        "plt.figure(figsize=(12,9))\n",
        "s = sns.heatmap(df_segamentation.corr(),\n",
        "             annot = True,\n",
        "             cmap = 'RdBu',\n",
        "             vmin = -1,\n",
        "             vmax = 1)\n",
        "s.set_yticklabels(s.get_yticklabels(), rotation = 0, fontsize = 12)\n",
        "s.set_xticklabels(s.get_xticklabels(), rotation = 90, fontsize = 12)\n",
        "plt.title('correlation Heatmap')\n",
        "plt.show()"
      ],
      "execution_count": 49,
      "outputs": [
        {
          "output_type": "display_data",
          "data": {
            "image/png": "[encoded data removed]",
            "text/plain": [
              "<Figure size 864x648 with 2 Axes>"
            ]
          },
          "metadata": {
            "tags": []
          }
        }
      ]
    },
    {
      "cell_type": "markdown",
      "metadata": {
        "id": "hYAbeiFL9_oK",
        "colab_type": "text"
      },
      "source": [
        "### Visulize Raw Data\n"
      ]
    },
    {
      "cell_type": "code",
      "metadata": {
        "id": "G8ShWr_Z9WeL",
        "colab_type": "code",
        "colab": {
          "base_uri": "https://localhost:8080/",
          "height": 427
        },
        "outputId": "40ffe38b-c85c-49d6-9b20-1f442303af4c"
      },
      "source": [
        "plt.figure(figsize = (9,6))\n",
        "plt.scatter(df_segamentation.iloc[:, 2],df_segamentation.iloc[:, 4])\n",
        "plt.xlabel('Age')\n",
        "plt.ylabel('Income')\n",
        "plt.title('Visualization of raw data')"
      ],
      "execution_count": 50,
      "outputs": [
        {
          "output_type": "execute_result",
          "data": {
            "text/plain": [
              "Text(0.5, 1.0, 'Visualization of raw data')"
            ]
          },
          "metadata": {
            "tags": []
          },
          "execution_count": 50
        },
        {
          "output_type": "display_data",
          "data": {
            "image/png": "[encoded data removed]",
            "text/plain": [
              "<Figure size 648x432 with 1 Axes>"
            ]
          },
          "metadata": {
            "tags": []
          }
        }
      ]
    },
    {
      "cell_type": "markdown",
      "metadata": {
        "id": "GVyqp86qAhCj",
        "colab_type": "text"
      },
      "source": [
        "### Standardization"
      ]
    },
    {
      "cell_type": "code",
      "metadata": {
        "id": "JGwlufmg-sak",
        "colab_type": "code",
        "colab": {}
      },
      "source": [
        "scaler = StandardScaler()\n",
        "segementation_std = scaler.fit_transform(df_segamentation)"
      ],
      "execution_count": 0,
      "outputs": []
    },
    {
      "cell_type": "markdown",
      "metadata": {
        "id": "JYOIusSAi8RK",
        "colab_type": "text"
      },
      "source": [
        "## Hierarchical\n"
      ]
    },
    {
      "cell_type": "code",
      "metadata": {
        "id": "QuTPADQ3A2ao",
        "colab_type": "code",
        "colab": {}
      },
      "source": [
        "hier_clust = linkage(segementation_std, method='ward')"
      ],
      "execution_count": 0,
      "outputs": []
    },
    {
      "cell_type": "code",
      "metadata": {
        "id": "LP4Q5nvdi6MG",
        "colab_type": "code",
        "colab": {
          "base_uri": "https://localhost:8080/",
          "height": 390
        },
        "outputId": "ef0b9eae-0968-4183-8897-0684475c0cb2"
      },
      "source": [
        "plt.figure(figsize=(9,6))\n",
        "plt.title('Hierarchical Clustering Dendrogram')\n",
        "plt.xlabel('Oberservations')\n",
        "plt.ylabel('Distance')\n",
        "\n",
        "dendrogram(hier_clust,\n",
        "           truncate_mode = 'level',\n",
        "           p = 5,\n",
        "           show_leaf_counts = False,\n",
        "           no_labels = True)\n",
        "plt.show()"
      ],
      "execution_count": 53,
      "outputs": [
        {
          "output_type": "display_data",
          "data": {
            "image/png": "[encoded data removed]",
            "text/plain": [
              "<Figure size 648x432 with 1 Axes>"
            ]
          },
          "metadata": {
            "tags": []
          }
        }
      ]
    },
    {
      "cell_type": "code",
      "metadata": {
        "id": "r-bXidDlwZFr",
        "colab_type": "code",
        "colab": {}
      },
      "source": [
        "wcss = []\n",
        "for i in range(1,11):\n",
        "  kmeans = KMeans(n_clusters = i,init = 'k-means++',random_state = 42)\n",
        "  kmeans.fit(segementation_std)\n",
        "  wcss.append(kmeans.inertia_)"
      ],
      "execution_count": 0,
      "outputs": []
    },
    {
      "cell_type": "code",
      "metadata": {
        "id": "LQr6iuyu25-r",
        "colab_type": "code",
        "colab": {
          "base_uri": "https://localhost:8080/",
          "height": 518
        },
        "outputId": "3238fa04-0b56-41c0-f0e8-b65990ce80fa"
      },
      "source": [
        "plt.figure(figsize=(10,8))\n",
        "plt.plot(range(1,11),wcss,marker = 'o',linestyle='--')\n",
        "plt.xlabel('Number of Clusters')\n",
        "plt.ylabel('WCSS')\n",
        "plt.title('K-means Clustering')\n",
        "plt.show()"
      ],
      "execution_count": 55,
      "outputs": [
        {
          "output_type": "display_data",
          "data": {
            "image/png": "[encoded data removed]",
            "text/plain": [
              "<Figure size 720x576 with 1 Axes>"
            ]
          },
          "metadata": {
            "tags": []
          }
        }
      ]
    },
    {
      "cell_type": "code",
      "metadata": {
        "id": "TeJ1kELM5Cyu",
        "colab_type": "code",
        "colab": {
          "base_uri": "https://localhost:8080/",
          "height": 68
        },
        "outputId": "147de97f-493c-4858-e1d2-d4b7246980ca"
      },
      "source": [
        "kmeans = KMeans(n_clusters = 4,init = 'k-means++',random_state=42)\n",
        "kmeans.fit(segementation_std)"
      ],
      "execution_count": 56,
      "outputs": [
        {
          "output_type": "execute_result",
          "data": {
            "text/plain": [
              "KMeans(algorithm='auto', copy_x=True, init='k-means++', max_iter=300,\n",
              "       n_clusters=4, n_init=10, n_jobs=None, precompute_distances='auto',\n",
              "       random_state=42, tol=0.0001, verbose=0)"
            ]
          },
          "metadata": {
            "tags": []
          },
          "execution_count": 56
        }
      ]
    },
    {
      "cell_type": "markdown",
      "metadata": {
        "id": "jyWqclxc6i0a",
        "colab_type": "text"
      },
      "source": [
        "## Result"
      ]
    },
    {
      "cell_type": "code",
      "metadata": {
        "id": "EtCjH-6Q6T4u",
        "colab_type": "code",
        "colab": {}
      },
      "source": [
        "df_segm_kmeans = df_segamentation.copy()\n",
        "df_segm_kmeans['Segment K-means'] = kmeans.labels_"
      ],
      "execution_count": 0,
      "outputs": []
    },
    {
      "cell_type": "code",
      "metadata": {
        "id": "pyL69jbU69Yc",
        "colab_type": "code",
        "colab": {
          "base_uri": "https://localhost:8080/",
          "height": 204
        },
        "outputId": "e10b3b09-9442-405e-aa55-1b3b0b48ecb3"
      },
      "source": [
        "df_segm_analysis = df_segm_kmeans.groupby(['Segment K-means']).mean()\n",
        "df_segm_analysis"
      ],
      "execution_count": 58,
      "outputs": [
        {
          "output_type": "execute_result",
          "data": {
            "text/html": [
              "<div>\n",
              "<style scoped>\n",
              "    .dataframe tbody tr th:only-of-type {\n",
              "        vertical-align: middle;\n",
              "    }\n",
              "\n",
              "    .dataframe tbody tr th {\n",
              "        vertical-align: top;\n",
              "    }\n",
              "\n",
              "    .dataframe thead th {\n",
              "        text-align: right;\n",
              "    }\n",
              "</style>\n",
              "<table border=\"1\" class=\"dataframe\">\n",
              "  <thead>\n",
              "    <tr style=\"text-align: right;\">\n",
              "      <th></th>\n",
              "      <th>Sex</th>\n",
              "      <th>Marital status</th>\n",
              "      <th>Age</th>\n",
              "      <th>Education</th>\n",
              "      <th>Income</th>\n",
              "      <th>Occupation</th>\n",
              "      <th>Settlement size</th>\n",
              "    </tr>\n",
              "    <tr>\n",
              "      <th>Segment K-means</th>\n",
              "      <th></th>\n",
              "      <th></th>\n",
              "      <th></th>\n",
              "      <th></th>\n",
              "      <th></th>\n",
              "      <th></th>\n",
              "      <th></th>\n",
              "    </tr>\n",
              "  </thead>\n",
              "  <tbody>\n",
              "    <tr>\n",
              "      <th>0</th>\n",
              "      <td>0.501901</td>\n",
              "      <td>0.692015</td>\n",
              "      <td>55.703422</td>\n",
              "      <td>2.129278</td>\n",
              "      <td>158338.422053</td>\n",
              "      <td>1.129278</td>\n",
              "      <td>1.110266</td>\n",
              "    </tr>\n",
              "    <tr>\n",
              "      <th>1</th>\n",
              "      <td>0.352814</td>\n",
              "      <td>0.019481</td>\n",
              "      <td>35.577922</td>\n",
              "      <td>0.746753</td>\n",
              "      <td>97859.852814</td>\n",
              "      <td>0.329004</td>\n",
              "      <td>0.043290</td>\n",
              "    </tr>\n",
              "    <tr>\n",
              "      <th>2</th>\n",
              "      <td>0.029825</td>\n",
              "      <td>0.173684</td>\n",
              "      <td>35.635088</td>\n",
              "      <td>0.733333</td>\n",
              "      <td>141218.249123</td>\n",
              "      <td>1.271930</td>\n",
              "      <td>1.522807</td>\n",
              "    </tr>\n",
              "    <tr>\n",
              "      <th>3</th>\n",
              "      <td>0.853901</td>\n",
              "      <td>0.997163</td>\n",
              "      <td>28.963121</td>\n",
              "      <td>1.068085</td>\n",
              "      <td>105759.119149</td>\n",
              "      <td>0.634043</td>\n",
              "      <td>0.422695</td>\n",
              "    </tr>\n",
              "  </tbody>\n",
              "</table>\n",
              "</div>"
            ],
            "text/plain": [
              "                      Sex  Marital status  ...  Occupation  Settlement size\n",
              "Segment K-means                            ...                             \n",
              "0                0.501901        0.692015  ...    1.129278         1.110266\n",
              "1                0.352814        0.019481  ...    0.329004         0.043290\n",
              "2                0.029825        0.173684  ...    1.271930         1.522807\n",
              "3                0.853901        0.997163  ...    0.634043         0.422695\n",
              "\n",
              "[4 rows x 7 columns]"
            ]
          },
          "metadata": {
            "tags": []
          },
          "execution_count": 58
        }
      ]
    },
    {
      "cell_type": "code",
      "metadata": {
        "id": "abbxQl_g7rV6",
        "colab_type": "code",
        "colab": {}
      },
      "source": [
        "df_segm_analysis['N Obs'] = df_segm_kmeans[['Segment K-means','Sex']].groupby(['Segment K-means']).count()"
      ],
      "execution_count": 0,
      "outputs": []
    },
    {
      "cell_type": "code",
      "metadata": {
        "id": "sOxcE9CApjeg",
        "colab_type": "code",
        "colab": {}
      },
      "source": [
        "df_segm_analysis['Prob Obs'] = df_segm_analysis['N Obs']/df_segm_analysis['N Obs'].sum()"
      ],
      "execution_count": 0,
      "outputs": []
    },
    {
      "cell_type": "code",
      "metadata": {
        "id": "G0E6H_CPpynq",
        "colab_type": "code",
        "colab": {
          "base_uri": "https://localhost:8080/",
          "height": 204
        },
        "outputId": "e051dadf-6056-475c-e20a-d0410484de4c"
      },
      "source": [
        "df_segm_analysis"
      ],
      "execution_count": 61,
      "outputs": [
        {
          "output_type": "execute_result",
          "data": {
            "text/html": [
              "<div>\n",
              "<style scoped>\n",
              "    .dataframe tbody tr th:only-of-type {\n",
              "        vertical-align: middle;\n",
              "    }\n",
              "\n",
              "    .dataframe tbody tr th {\n",
              "        vertical-align: top;\n",
              "    }\n",
              "\n",
              "    .dataframe thead th {\n",
              "        text-align: right;\n",
              "    }\n",
              "</style>\n",
              "<table border=\"1\" class=\"dataframe\">\n",
              "  <thead>\n",
              "    <tr style=\"text-align: right;\">\n",
              "      <th></th>\n",
              "      <th>Sex</th>\n",
              "      <th>Marital status</th>\n",
              "      <th>Age</th>\n",
              "      <th>Education</th>\n",
              "      <th>Income</th>\n",
              "      <th>Occupation</th>\n",
              "      <th>Settlement size</th>\n",
              "      <th>N Obs</th>\n",
              "      <th>Prob Obs</th>\n",
              "    </tr>\n",
              "    <tr>\n",
              "      <th>Segment K-means</th>\n",
              "      <th></th>\n",
              "      <th></th>\n",
              "      <th></th>\n",
              "      <th></th>\n",
              "      <th></th>\n",
              "      <th></th>\n",
              "      <th></th>\n",
              "      <th></th>\n",
              "      <th></th>\n",
              "    </tr>\n",
              "  </thead>\n",
              "  <tbody>\n",
              "    <tr>\n",
              "      <th>0</th>\n",
              "      <td>0.501901</td>\n",
              "      <td>0.692015</td>\n",
              "      <td>55.703422</td>\n",
              "      <td>2.129278</td>\n",
              "      <td>158338.422053</td>\n",
              "      <td>1.129278</td>\n",
              "      <td>1.110266</td>\n",
              "      <td>263</td>\n",
              "      <td>0.1315</td>\n",
              "    </tr>\n",
              "    <tr>\n",
              "      <th>1</th>\n",
              "      <td>0.352814</td>\n",
              "      <td>0.019481</td>\n",
              "      <td>35.577922</td>\n",
              "      <td>0.746753</td>\n",
              "      <td>97859.852814</td>\n",
              "      <td>0.329004</td>\n",
              "      <td>0.043290</td>\n",
              "      <td>462</td>\n",
              "      <td>0.2310</td>\n",
              "    </tr>\n",
              "    <tr>\n",
              "      <th>2</th>\n",
              "      <td>0.029825</td>\n",
              "      <td>0.173684</td>\n",
              "      <td>35.635088</td>\n",
              "      <td>0.733333</td>\n",
              "      <td>141218.249123</td>\n",
              "      <td>1.271930</td>\n",
              "      <td>1.522807</td>\n",
              "      <td>570</td>\n",
              "      <td>0.2850</td>\n",
              "    </tr>\n",
              "    <tr>\n",
              "      <th>3</th>\n",
              "      <td>0.853901</td>\n",
              "      <td>0.997163</td>\n",
              "      <td>28.963121</td>\n",
              "      <td>1.068085</td>\n",
              "      <td>105759.119149</td>\n",
              "      <td>0.634043</td>\n",
              "      <td>0.422695</td>\n",
              "      <td>705</td>\n",
              "      <td>0.3525</td>\n",
              "    </tr>\n",
              "  </tbody>\n",
              "</table>\n",
              "</div>"
            ],
            "text/plain": [
              "                      Sex  Marital status  ...  N Obs  Prob Obs\n",
              "Segment K-means                            ...                 \n",
              "0                0.501901        0.692015  ...    263    0.1315\n",
              "1                0.352814        0.019481  ...    462    0.2310\n",
              "2                0.029825        0.173684  ...    570    0.2850\n",
              "3                0.853901        0.997163  ...    705    0.3525\n",
              "\n",
              "[4 rows x 9 columns]"
            ]
          },
          "metadata": {
            "tags": []
          },
          "execution_count": 61
        }
      ]
    },
    {
      "cell_type": "code",
      "metadata": {
        "id": "prIVjBQwqNuz",
        "colab_type": "code",
        "colab": {}
      },
      "source": [
        ""
      ],
      "execution_count": 0,
      "outputs": []
    }
  ]
}